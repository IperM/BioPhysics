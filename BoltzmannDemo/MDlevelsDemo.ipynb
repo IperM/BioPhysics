{
 "cells": [
  {
   "cell_type": "code",
   "execution_count": 97,
   "id": "323c10b6",
   "metadata": {},
   "outputs": [
    {
     "name": "stdout",
     "output_type": "stream",
     "text": [
      "The autoreload extension is already loaded. To reload it, use:\n",
      "  %reload_ext autoreload\n"
     ]
    }
   ],
   "source": [
    "%load_ext autoreload\n",
    "%autoreload 2"
   ]
  },
  {
   "cell_type": "code",
   "execution_count": 105,
   "id": "8e6a55fe",
   "metadata": {},
   "outputs": [],
   "source": [
    "import random\n",
    "import numpy as np\n",
    "import matplotlib.pyplot as plt"
   ]
  },
  {
   "cell_type": "code",
   "execution_count": 309,
   "id": "0f13cef9",
   "metadata": {},
   "outputs": [],
   "source": [
    "def calc_gauss(x, e, x0, s):\n",
    "    return e * np.exp(-(x-x0)**2/s**2) / 1000\n",
    "\n",
    "def calc_profile(ngauss, nstates, svalues, evalues):\n",
    "    RT = 1.987*298.\n",
    "    xvalues = (0, nstates - 1)\n",
    "    xmin = 0.\n",
    "    xmax = float(nstates - 1)\n",
    "    \n",
    "    \n",
    "    random.seed()\n",
    "    gauss = []\n",
    "    for st in range(ngauss):\n",
    "        gauss.append({\n",
    "            'x' : random.randrange(xvalues[0], xvalues[1]),\n",
    "            's' : random.randrange(svalues[0], svalues[1]),\n",
    "            'e' : random.randrange(evalues[0], evalues[1])\n",
    "        })\n",
    "\n",
    "    # Preparing the Wall functions\n",
    "    wall_s = 0.1 * xmax\n",
    "    wall_ef = 0.1 * ngauss\n",
    "    \n",
    "    gauss.append({'x' : xmin, 's' : wall_s, 'e': wall_ef * evalues[1]})\n",
    "    gauss.append({'x' : xmax, 's' : wall_s, 'e': wall_ef * evalues[1]})\n",
    "    \n",
    "    # Adding the gaussian functions to get the final profi.e\n",
    "    energy_profile = {}\n",
    "    for st in range(nstates):\n",
    "        energy_profile[st] = 0.\n",
    "        for gss in gauss:\n",
    "            energy_profile[st] += calc_gauss(float(st), RT * gss['e'], gss['x'], gss['s'])\n",
    "    \n",
    "    return energy_profile\n",
    "\n",
    "def calc_boltzmann_term(e, T):\n",
    "    R = 1.987\n",
    "    return np.exp(-e/R/T)\n"
   ]
  },
  {
   "cell_type": "markdown",
   "id": "87e1ee00",
   "metadata": {},
   "source": [
    "### Prep energy profile\n",
    "\n",
    "Prepared as a sum of random gaussian functions. Nstates define the x range (0, nstates-1), ngauss the number of Gaussian functions, evalues the range of energies and s the range of std. deviations.\n",
    "Two additional functions are added at the ends of the range to give \"funnel\" shape to the landscape"
   ]
  },
  {
   "cell_type": "code",
   "execution_count": 326,
   "id": "c4078d4a",
   "metadata": {},
   "outputs": [],
   "source": [
    "nstates = 100\n",
    "ngauss = 500\n",
    "evalues = (20, 80)\n",
    "svalues = (2 , 10)\n"
   ]
  },
  {
   "cell_type": "code",
   "execution_count": 327,
   "id": "773216f3",
   "metadata": {},
   "outputs": [],
   "source": [
    "energy_profile = calc_profile(ngauss, nstates, svalues, evalues)"
   ]
  },
  {
   "cell_type": "code",
   "execution_count": 328,
   "id": "81935bbe",
   "metadata": {},
   "outputs": [],
   "source": [
    "e_prof = np.array([np.linspace(xmin, xmax, num=nstates), list(energy_profile.values())])\n",
    "np.save('e_profile', e_prof)"
   ]
  },
  {
   "cell_type": "code",
   "execution_count": 329,
   "id": "b412165b",
   "metadata": {},
   "outputs": [],
   "source": [
    "e_prof = np.load('e_profile.npy')"
   ]
  },
  {
   "cell_type": "code",
   "execution_count": 330,
   "id": "62089364",
   "metadata": {},
   "outputs": [
    {
     "data": {
      "image/png": "[encoded data removed]",
      "text/plain": [
       "<Figure size 640x480 with 1 Axes>"
      ]
     },
     "metadata": {},
     "output_type": "display_data"
    }
   ],
   "source": [
    "fig, ax = plt.subplots()\n",
    "ax.plot(e_prof[0], e_prof[1])\n",
    "ax.set_xlim(left=xmin, right=xmax)\n",
    "ax.set_ylabel('Energy')\n",
    "ax.set_xlabel('Confs')\n",
    "plt.show()\n"
   ]
  },
  {
   "cell_type": "code",
   "execution_count": null,
   "id": "47b70967",
   "metadata": {},
   "outputs": [],
   "source": [
    "T = 100\n",
    "boltz = {}\n",
    "total_boltz = 0.\n",
    "for st in energy_profile:\n",
    "    boltz[st] = calc_boltzmann_term(energy_profile[st], T)\n",
    "    total_boltz += boltz[st]\n",
    "for st in boltz:\n",
    "    boltz[st] /= total_boltz\n",
    "btz_prof = np.array([np.linspace(xmin, xmax, num=nstates), list(boltz.values())])\n",
    "\n",
    "acc_btz = {}\n",
    "acc_btz[0] = boltz[0]\n",
    "for st in range(1, nstates):\n",
    "    acc_btz[st] = acc_btz[st - 1] + boltz[st]\n",
    "acc_btz_prof = np.array([np.linspace(xmin, xmax, num=nstates), list(acc_btz.values())])\n"
   ]
  },
  {
   "cell_type": "code",
   "execution_count": 507,
   "id": "29662e35",
   "metadata": {},
   "outputs": [],
   "source": [
    "fig, ax = plt.subplots()\n",
    "ax.set_ylabel('Energy')\n",
    "ax.set_xlabel('Confs')\n",
    "ax2 = ax.twinx()\n",
    "ax.plot(e_prof[0], e_prof[1], label=\"Epot\")\n",
    "ax.set_xlim(left=xmin + 10, right=xmax-10)\n",
    "ax2.plot(btz_prof[0], btz_prof[1], label=\"Rel.Pop\", color=\"red\")\n",
    "ax2.set_ylabel(\"Relative population\")\n",
    "plt.legend(loc='upper left')\n",
    "plt.show()\n"
   ]
  },
  {
   "cell_type": "code",
   "execution_count": 511,
   "id": "789136d5",
   "metadata": {},
   "outputs": [],
   "source": [
    "def get_energy_bin(acc_btz_prof, rn):\n",
    "        st = 0\n",
    "        while acc_btz_prof[st] < rn:\n",
    "            st +=1\n",
    "        return st\n",
    "\n"
   ]
  },
  {
   "cell_type": "code",
   "execution_count": 514,
   "id": "a044317a",
   "metadata": {},
   "outputs": [
    {
     "name": "stdout",
     "output_type": "stream",
     "text": [
      "Using matplotlib backend: QtAgg\n"
     ]
    },
    {
     "ename": "KeyboardInterrupt",
     "evalue": "",
     "output_type": "error",
     "traceback": [
      "\u001b[0;31m---------------------------------------------------------------------------\u001b[0m",
      "\u001b[0;31mKeyboardInterrupt\u001b[0m                         Traceback (most recent call last)",
      "Cell \u001b[0;32mIn [514], line 47\u001b[0m\n\u001b[1;32m     41\u001b[0m     ax[\u001b[38;5;241m1\u001b[39m]\u001b[38;5;241m.\u001b[39mscatter(\n\u001b[1;32m     42\u001b[0m         e_x, \n\u001b[1;32m     43\u001b[0m         [pop[b]\u001b[38;5;241m/\u001b[39m(maxnparts \u001b[38;5;241m+\u001b[39m \u001b[38;5;241m1\u001b[39m) \u001b[38;5;28;01mfor\u001b[39;00m b \u001b[38;5;129;01min\u001b[39;00m \u001b[38;5;28mrange\u001b[39m(nstates)],\n\u001b[1;32m     44\u001b[0m         marker\u001b[38;5;241m=\u001b[39m\u001b[38;5;124m'\u001b[39m\u001b[38;5;124m.\u001b[39m\u001b[38;5;124m'\u001b[39m\n\u001b[1;32m     45\u001b[0m     )\n\u001b[1;32m     46\u001b[0m     ax[\u001b[38;5;241m0\u001b[39m]\u001b[38;5;241m.\u001b[39mset_title(\u001b[38;5;124mf\u001b[39m\u001b[38;5;124m\"\u001b[39m\u001b[38;5;124mNum. particles: \u001b[39m\u001b[38;5;132;01m{\u001b[39;00mnparticles\u001b[38;5;132;01m}\u001b[39;00m\u001b[38;5;124m\"\u001b[39m)\n\u001b[0;32m---> 47\u001b[0m     \u001b[43mplt\u001b[49m\u001b[38;5;241;43m.\u001b[39;49m\u001b[43mpause\u001b[49m\u001b[43m(\u001b[49m\u001b[43mdt\u001b[49m\u001b[43m)\u001b[49m\n\u001b[1;32m     49\u001b[0m plt\u001b[38;5;241m.\u001b[39mshow()\n",
      "File \u001b[0;32m~/miniconda3/envs/biophysics2022/lib/python3.10/site-packages/matplotlib/pyplot.py:545\u001b[0m, in \u001b[0;36mpause\u001b[0;34m(interval)\u001b[0m\n\u001b[1;32m    543\u001b[0m         canvas\u001b[38;5;241m.\u001b[39mdraw_idle()\n\u001b[1;32m    544\u001b[0m     show(block\u001b[38;5;241m=\u001b[39m\u001b[38;5;28;01mFalse\u001b[39;00m)\n\u001b[0;32m--> 545\u001b[0m     \u001b[43mcanvas\u001b[49m\u001b[38;5;241;43m.\u001b[39;49m\u001b[43mstart_event_loop\u001b[49m\u001b[43m(\u001b[49m\u001b[43minterval\u001b[49m\u001b[43m)\u001b[49m\n\u001b[1;32m    546\u001b[0m \u001b[38;5;28;01melse\u001b[39;00m:\n\u001b[1;32m    547\u001b[0m     time\u001b[38;5;241m.\u001b[39msleep(interval)\n",
      "File \u001b[0;32m~/miniconda3/envs/biophysics2022/lib/python3.10/site-packages/matplotlib/backends/backend_qt.py:409\u001b[0m, in \u001b[0;36mFigureCanvasQT.start_event_loop\u001b[0;34m(self, timeout)\u001b[0m\n\u001b[1;32m    406\u001b[0m \u001b[38;5;28;01mif\u001b[39;00m timeout \u001b[38;5;241m>\u001b[39m \u001b[38;5;241m0\u001b[39m:\n\u001b[1;32m    407\u001b[0m     _ \u001b[38;5;241m=\u001b[39m QtCore\u001b[38;5;241m.\u001b[39mQTimer\u001b[38;5;241m.\u001b[39msingleShot(\u001b[38;5;28mint\u001b[39m(timeout \u001b[38;5;241m*\u001b[39m \u001b[38;5;241m1000\u001b[39m), event_loop\u001b[38;5;241m.\u001b[39mquit)\n\u001b[0;32m--> 409\u001b[0m \u001b[38;5;28;01mwith\u001b[39;00m _maybe_allow_interrupt(event_loop):\n\u001b[1;32m    410\u001b[0m     qt_compat\u001b[38;5;241m.\u001b[39m_exec(event_loop)\n",
      "File \u001b[0;32m~/miniconda3/envs/biophysics2022/lib/python3.10/contextlib.py:142\u001b[0m, in \u001b[0;36m_GeneratorContextManager.__exit__\u001b[0;34m(self, typ, value, traceback)\u001b[0m\n\u001b[1;32m    140\u001b[0m \u001b[38;5;28;01mif\u001b[39;00m typ \u001b[38;5;129;01mis\u001b[39;00m \u001b[38;5;28;01mNone\u001b[39;00m:\n\u001b[1;32m    141\u001b[0m     \u001b[38;5;28;01mtry\u001b[39;00m:\n\u001b[0;32m--> 142\u001b[0m         \u001b[38;5;28;43mnext\u001b[39;49m\u001b[43m(\u001b[49m\u001b[38;5;28;43mself\u001b[39;49m\u001b[38;5;241;43m.\u001b[39;49m\u001b[43mgen\u001b[49m\u001b[43m)\u001b[49m\n\u001b[1;32m    143\u001b[0m     \u001b[38;5;28;01mexcept\u001b[39;00m \u001b[38;5;167;01mStopIteration\u001b[39;00m:\n\u001b[1;32m    144\u001b[0m         \u001b[38;5;28;01mreturn\u001b[39;00m \u001b[38;5;28;01mFalse\u001b[39;00m\n",
      "File \u001b[0;32m~/miniconda3/envs/biophysics2022/lib/python3.10/site-packages/matplotlib/backends/qt_compat.py:261\u001b[0m, in \u001b[0;36m_maybe_allow_interrupt\u001b[0;34m(qapp)\u001b[0m\n\u001b[1;32m    259\u001b[0m signal\u001b[38;5;241m.\u001b[39msignal(signal\u001b[38;5;241m.\u001b[39mSIGINT, old_sigint_handler)\n\u001b[1;32m    260\u001b[0m \u001b[38;5;28;01mif\u001b[39;00m handler_args \u001b[38;5;129;01mis\u001b[39;00m \u001b[38;5;129;01mnot\u001b[39;00m \u001b[38;5;28;01mNone\u001b[39;00m:\n\u001b[0;32m--> 261\u001b[0m     \u001b[43mold_sigint_handler\u001b[49m\u001b[43m(\u001b[49m\u001b[38;5;241;43m*\u001b[39;49m\u001b[43mhandler_args\u001b[49m\u001b[43m)\u001b[49m\n",
      "\u001b[0;31mKeyboardInterrupt\u001b[0m: "
     ]
    }
   ],
   "source": [
    "%matplotlib\n",
    "\n",
    "import matplotlib.animation as animation\n",
    "\n",
    "maxnparts = 10000\n",
    "dt = 0.001\n",
    "\n",
    "pop = {b:0. for b in range(nstates)}\n",
    "\n",
    "fig, ax = plt.subplots(2,1)\n",
    "\n",
    "ax[0].set_ylabel('Energy')\n",
    "ax[0].set_xlabel('Confs')\n",
    "ax[0].set_xlim(left=xmin + 10, right=xmax-10)\n",
    "ax[0].plot(e_prof[0], e_prof[1])\n",
    "ax_xmin, ax_xmax, ax_ymin, ax_ymax = ax[0].axis()\n",
    "\n",
    "ax2 = ax[0].twinx()\n",
    "ax2.set_ylabel(\"Relative population\")\n",
    "ax2.plot(btz_prof[0], btz_prof[1], color=\"red\")\n",
    "ax2_xmin, ax2_xmax, ax2_ymin, ax2_ymax = ax2.axis()\n",
    "ax3 = ax[0].twinx()\n",
    "\n",
    "e_x = [energy_profile[b] for b in range(nstates)], \n",
    "        \n",
    "for nparticles in range(maxnparts):\n",
    "    b = get_energy_bin(acc_btz, random.random())\n",
    "    pop[b] += 1\n",
    "    ax3.clear()\n",
    "    ax3.set_ylim(ymin=ax2_ymin, ymax=ax2_ymax)\n",
    "    ax3.scatter(\n",
    "        btz_prof[0], \n",
    "        [pop[b]/(maxnparts + 1) for b in range(nstates)],\n",
    "        marker='.'\n",
    "    )\n",
    "    ax[1].clear()\n",
    "    ax[1].set_xlabel('Energy')\n",
    "    ax[1].set_ylabel('Norm. Population')\n",
    "    ax[1].set_xlim(left=ax_ymin, right=ax_ymax)\n",
    "    ax[1].set_ylim(ymin=ax2_ymin, ymax=ax2_ymax)\n",
    "    ax[1].scatter(\n",
    "        e_x, \n",
    "        [pop[b]/(maxnparts + 1) for b in range(nstates)],\n",
    "        marker='.'\n",
    "    )\n",
    "    ax[0].set_title(f\"Num. particles: {nparticles}\")\n",
    "    plt.pause(dt)\n",
    "\n",
    "plt.show()\n"
   ]
  },
  {
   "cell_type": "code",
   "execution_count": null,
   "id": "59b2d7d2",
   "metadata": {},
   "outputs": [],
   "source": []
  },
  {
   "cell_type": "code",
   "execution_count": null,
   "id": "b982a03a",
   "metadata": {},
   "outputs": [],
   "source": []
  }
 ],
 "metadata": {
  "kernelspec": {
   "display_name": "Python 3 (ipykernel)",
   "language": "python",
   "name": "python3"
  },
  "language_info": {
   "codemirror_mode": {
    "name": "ipython",
    "version": 3
   },
   "file_extension": ".py",
   "mimetype": "text/x-python",
   "name": "python",
   "nbconvert_exporter": "python",
   "pygments_lexer": "ipython3",
   "version": "3.10.6"
  }
 },
 "nbformat": 4,
 "nbformat_minor": 5
}
