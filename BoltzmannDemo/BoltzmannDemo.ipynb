{
 "cells": [
  {
   "cell_type": "code",
   "execution_count": 1,
   "id": "323c10b6",
   "metadata": {},
   "outputs": [],
   "source": [
    "%load_ext autoreload\n",
    "%autoreload 2"
   ]
  },
  {
   "cell_type": "markdown",
   "id": "abf63267",
   "metadata": {},
   "source": [
    "# Boltzmann distribution demo notebook\n",
    "The notebook prepares a simulated energy profile and show the corresponding Boltzmann disribution from the theoretical equation and also by generating random particles following Boltzmann probability.\n",
    "\n",
    "### Requirements\n",
    "- numpy\n",
    "- matplotlib"
   ]
  },
  {
   "cell_type": "code",
   "execution_count": 2,
   "id": "8e6a55fe",
   "metadata": {},
   "outputs": [],
   "source": [
    "import random\n",
    "import numpy as np\n",
    "import matplotlib.pyplot as plt"
   ]
  },
  {
   "cell_type": "markdown",
   "id": "9263c753",
   "metadata": {},
   "source": [
    "### Functions"
   ]
  },
  {
   "cell_type": "code",
   "execution_count": 20,
   "id": "0f13cef9",
   "metadata": {},
   "outputs": [],
   "source": [
    "def calc_gauss(x, e, x0, s):\n",
    "    ''' Calculate a Gaussian function as e * exp(-((x-x0)/s)²) output is a E in Kcal '''\n",
    "    return e * np.exp(-(x-x0)**2/s**2) / 1000\n",
    "\n",
    "def calc_profile(ngauss, nstates, svalues, evalues):\n",
    "    ''' Evaluates a the simulated profile and adding a series of Gaussian functions\n",
    "        ngauss (int): Number of Gaussian functions\n",
    "        nstates (int): Number of states to simulate\n",
    "        svalues (int,int): range s values\n",
    "        evalues (int,int): range e values\n",
    "    '''\n",
    "    RT = 1.987*298. #cal/mol\n",
    "    xvalues = (0, nstates - 1)\n",
    "    xmin = 0.\n",
    "    xmax = float(nstates - 1)\n",
    "    \n",
    "    random.seed()\n",
    "    gauss = []\n",
    "    for st in range(ngauss):\n",
    "        gauss.append({\n",
    "            'x' : random.randrange(xvalues[0], xvalues[1]),\n",
    "            's' : random.randrange(svalues[0], svalues[1]),\n",
    "            'e' : random.randrange(evalues[0], evalues[1])\n",
    "        })\n",
    "\n",
    "    # Preparing the Wall functions\n",
    "    wall_s = 0.1 * xmax\n",
    "    wall_ef = 0.1 * ngauss\n",
    "    \n",
    "    gauss.append({'x' : xmin, 's' : wall_s, 'e': wall_ef * evalues[1]})\n",
    "    gauss.append({'x' : xmax, 's' : wall_s, 'e': wall_ef * evalues[1]})\n",
    "    \n",
    "    # Adding the gaussian functions to get the final profi.e\n",
    "    energy_profile = {}\n",
    "    for st in range(nstates):\n",
    "        energy_profile[st] = 0.\n",
    "        for gss in gauss:\n",
    "            energy_profile[st] += calc_gauss(float(st), RT * gss['e'], gss['x'], gss['s'])\n",
    "    \n",
    "    return energy_profile\n",
    "\n",
    "def calc_boltzmann_term(e, T):\n",
    "    R = 1.987\n",
    "    return np.exp(-e/R/T)\n",
    "\n",
    "def get_energy_bin(acc_btz_prof, rn):\n",
    "        st = 0\n",
    "        while acc_btz_prof[st] < rn:\n",
    "            st +=1\n",
    "        return st\n"
   ]
  },
  {
   "cell_type": "markdown",
   "id": "87e1ee00",
   "metadata": {},
   "source": [
    "### Prep energy profile\n",
    "\n",
    "Prepared as a sum of random gaussian functions. Nstates define the x range (0, nstates-1), ngauss the number of Gaussian functions, evalues the range of energies and s the range of std. deviations.\n",
    "Two additional functions are added at the ends of the range to give \"funnel\" shape to the landscape"
   ]
  },
  {
   "cell_type": "code",
   "execution_count": 3,
   "id": "c4078d4a",
   "metadata": {},
   "outputs": [],
   "source": [
    "nstates = 100\n",
    "ngauss = 500\n",
    "evalues = (20, 80)\n",
    "svalues = (2 , 10)\n"
   ]
  },
  {
   "cell_type": "code",
   "execution_count": 61,
   "id": "773216f3",
   "metadata": {},
   "outputs": [],
   "source": [
    "energy_profile = calc_profile(ngauss, nstates, svalues, evalues)"
   ]
  },
  {
   "cell_type": "code",
   "execution_count": 62,
   "id": "81935bbe",
   "metadata": {},
   "outputs": [],
   "source": [
    "e_prof = np.array([np.linspace(0., nstates-1, num=nstates), list(energy_profile.values())])\n",
    "np.save('e_profile', e_prof)"
   ]
  },
  {
   "cell_type": "markdown",
   "id": "37f3c246",
   "metadata": {},
   "source": [
    "==========================================================================="
   ]
  },
  {
   "cell_type": "code",
   "execution_count": 27,
   "id": "b412165b",
   "metadata": {},
   "outputs": [],
   "source": [
    "e_prof = np.load('e_profile.npy')"
   ]
  },
  {
   "cell_type": "code",
   "execution_count": 28,
   "id": "9fa67fa0",
   "metadata": {},
   "outputs": [],
   "source": [
    "energy_profile = {i:e_prof[1][i] for i,v in enumerate(e_prof[1])}\n",
    "\n"
   ]
  },
  {
   "cell_type": "code",
   "execution_count": 29,
   "id": "62089364",
   "metadata": {},
   "outputs": [],
   "source": [
    "fig, ax = plt.subplots()\n",
    "ax.plot(e_prof[0], e_prof[1])\n",
    "ax.set_xlim(left=0, right=nstates-1)\n",
    "ax.set_ylabel('Energy')\n",
    "ax.set_xlabel('Confs')\n",
    "plt.show()\n"
   ]
  },
  {
   "cell_type": "code",
   "execution_count": 34,
   "id": "47b70967",
   "metadata": {},
   "outputs": [],
   "source": [
    "T = 50\n",
    "boltz = {}\n",
    "total_boltz = 0.\n",
    "for st in energy_profile:\n",
    "    boltz[st] = calc_boltzmann_term(energy_profile[st], T)\n",
    "    total_boltz += boltz[st]\n",
    "for st in boltz:\n",
    "    boltz[st] /= total_boltz\n",
    "btz_prof = np.array([np.linspace(0, nstates-1, num=nstates), list(boltz.values())])\n",
    "\n",
    "acc_btz = {}\n",
    "acc_btz[0] = boltz[0]\n",
    "for st in range(1, nstates):\n",
    "    acc_btz[st] = acc_btz[st - 1] + boltz[st]\n",
    "acc_btz_prof = np.array([np.linspace(0, nstates-1, num=nstates), list(acc_btz.values())])\n"
   ]
  },
  {
   "cell_type": "code",
   "execution_count": 35,
   "id": "29662e35",
   "metadata": {},
   "outputs": [],
   "source": [
    "fig, ax = plt.subplots()\n",
    "ax.set_ylabel('Energy')\n",
    "ax.set_xlabel('Confs')\n",
    "ax2 = ax.twinx()\n",
    "ax.plot(e_prof[0], e_prof[1], label=\"Epot\")\n",
    "ax.set_xlim(left=10, right=nstates-11)\n",
    "ax2.plot(btz_prof[0], btz_prof[1], label=\"Rel.Pop\", color=\"red\")\n",
    "ax2.set_ylabel(\"Relative population\")\n",
    "plt.legend(loc='upper left')\n",
    "plt.show()\n"
   ]
  },
  {
   "cell_type": "code",
   "execution_count": 36,
   "id": "a044317a",
   "metadata": {},
   "outputs": [
    {
     "name": "stdout",
     "output_type": "stream",
     "text": [
      "Using matplotlib backend: QtAgg\n"
     ]
    }
   ],
   "source": [
    "%matplotlib\n",
    "\n",
    "import matplotlib.animation as animation\n",
    "\n",
    "maxnparts = 1000001\n",
    "dt = 0.001\n",
    "step = int(maxnparts/1000)\n",
    "\n",
    "pop = {b:0. for b in range(nstates)}\n",
    "\n",
    "fig, ax = plt.subplots(1,2)\n",
    "\n",
    "ax[1].set_xlabel('Confs')\n",
    "ax[1].set_xlim(left=10, right=nstates-11)\n",
    "ax[1].plot(e_prof[0], e_prof[1])\n",
    "ax_xmin, ax_xmax, ax_ymin, ax_ymax = ax[1].axis()\n",
    "\n",
    "ax3 = ax[1].twinx()\n",
    "\n",
    "e_x = [energy_profile[b] for b in range(nstates)], \n",
    "        \n",
    "for nparticles in range(0, maxnparts, step):\n",
    "    for _ in range(step):\n",
    "        b = get_energy_bin(acc_btz, random.random())\n",
    "        pop[b] += 1\n",
    "    ax3.clear()\n",
    "    ax3.set_ylabel(\"Norm population\")\n",
    "    ax3.scatter(\n",
    "        btz_prof[0], \n",
    "        [pop[b]/(nparticles + 1) for b in range(nstates)],\n",
    "        marker='.'\n",
    "    )\n",
    "    ax3_xmin, ax3_xmax, ax3_ymin, ax3_ymax = ax3.axis()\n",
    "    ax[0].clear()\n",
    "    ax[0].set_ylabel('Energy')\n",
    "    ax[0].set_xlabel('Norm. Population')\n",
    "    #ax[0].set_xlim(xmin=ax3_ymin, xmax=ax3_ymax)\n",
    "    ax[0].scatter(\n",
    "        [pop[b]/(nparticles + 1) for b in range(nstates)],\n",
    "        e_x, \n",
    "        marker='.'\n",
    "    )\n",
    "    ax[0].set_title(f\"T {T} K, Num. particles: {nparticles}\")\n",
    "    plt.pause(dt)\n",
    "\n",
    "ax2 = ax[1].twinx()\n",
    "ax2.plot(btz_prof[0], btz_prof[1], color=\"red\", label=\"Theory\")\n",
    "ax3_xmin, ax3_xmax, ax3_ymin, ax3_ymax = ax3.axis()\n",
    "ax2.set_ylim(ymin=ax3_ymin, ymax=ax3_ymax)\n",
    "ax2.plot(btz_prof[0], btz_prof[1], color=\"red\")\n",
    "plt.legend()\n",
    "plt.show()\n",
    "\n"
   ]
  },
  {
   "cell_type": "code",
   "execution_count": null,
   "id": "59b2d7d2",
   "metadata": {},
   "outputs": [],
   "source": []
  },
  {
   "cell_type": "code",
   "execution_count": null,
   "id": "b982a03a",
   "metadata": {},
   "outputs": [],
   "source": []
  },
  {
   "cell_type": "code",
   "execution_count": null,
   "id": "f09a8fa2",
   "metadata": {},
   "outputs": [],
   "source": []
  }
 ],
 "metadata": {
  "kernelspec": {
   "display_name": "Python 3 (ipykernel)",
   "language": "python",
   "name": "python3"
  },
  "language_info": {
   "codemirror_mode": {
    "name": "ipython",
    "version": 3
   },
   "file_extension": ".py",
   "mimetype": "text/x-python",
   "name": "python",
   "nbconvert_exporter": "python",
   "pygments_lexer": "ipython3",
   "version": "3.10.6"
  }
 },
 "nbformat": 4,
 "nbformat_minor": 5
}
